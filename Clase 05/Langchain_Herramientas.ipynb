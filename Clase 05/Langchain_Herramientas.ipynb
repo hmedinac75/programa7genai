{
  "nbformat": 4,
  "nbformat_minor": 0,
  "metadata": {
    "colab": {
      "provenance": []
    },
    "kernelspec": {
      "name": "python3",
      "display_name": "Python 3"
    },
    "language_info": {
      "name": "python"
    }
  },
  "cells": [
    {
      "cell_type": "code",
      "execution_count": 1,
      "metadata": {
        "id": "KXL4HqOXjIlx"
      },
      "outputs": [],
      "source": [
        "from IPython.display import clear_output"
      ]
    },
    {
      "cell_type": "code",
      "source": [
        "!pip install langchain langchain_openai\n",
        "clear_output()"
      ],
      "metadata": {
        "id": "7dIOz7bkjNPx"
      },
      "execution_count": 2,
      "outputs": []
    },
    {
      "cell_type": "code",
      "source": [
        "import os\n",
        "from langchain.agents import AgentExecutor, create_openai_tools_agent\n",
        "from langchain_openai import ChatOpenAI\n",
        "\n",
        "from langchain.tools import BaseTool, StructuredTool, tool\n",
        "from langchain_core.prompts import ChatPromptTemplate, MessagesPlaceholder\n",
        "from typing import Annotated, List"
      ],
      "metadata": {
        "id": "z5Qr-4fojpwB"
      },
      "execution_count": 39,
      "outputs": []
    },
    {
      "cell_type": "code",
      "source": [
        "# Registramos la API\n",
        "with open(\"/content/api_key_openai.txt\") as archivo:\n",
        "  apikey = archivo.read()\n",
        "\n",
        "os.environ[\"OPENAI_API_KEY\"] =apikey"
      ],
      "metadata": {
        "id": "jWnqGLxYnKcG"
      },
      "execution_count": 40,
      "outputs": []
    },
    {
      "cell_type": "markdown",
      "source": [
        "## Creacion de herramientas\n",
        "\n",
        "LangChain admite la creación de herramientas desde:\n",
        "- Funciones @tool\n",
        "- Runnables de LangChain\n",
        "- Subclase de BaseTool: este es el método más flexible y proporciona el mayor grado de control, a costa de más esfuerzo y código."
      ],
      "metadata": {
        "id": "Ut5JxYIOmHcG"
      }
    },
    {
      "cell_type": "markdown",
      "source": [
        "### 1 Herramienta basada en @tool\n",
        "\n",
        "\n"
      ],
      "metadata": {
        "id": "zeSz_-7cmLCs"
      }
    },
    {
      "cell_type": "code",
      "source": [
        "@tool\n",
        "def add(a: int, b: int) -> int:\n",
        "    \"\"\"Adicionar dos numeros\"\"\"\n",
        "    a= int(a)\n",
        "    b= int(b)\n",
        "    return a + b"
      ],
      "metadata": {
        "id": "uO5PArLJncAd"
      },
      "execution_count": 5,
      "outputs": []
    },
    {
      "cell_type": "code",
      "source": [
        "add.args_schema.model_json_schema()"
      ],
      "metadata": {
        "colab": {
          "base_uri": "https://localhost:8080/"
        },
        "id": "nK-EhpnViFCe",
        "outputId": "513fe948-19fa-46cb-c293-fce75431d8b2"
      },
      "execution_count": 8,
      "outputs": [
        {
          "output_type": "execute_result",
          "data": {
            "text/plain": [
              "{'description': 'Adicionar dos numeros',\n",
              " 'properties': {'a': {'title': 'A', 'type': 'integer'},\n",
              "  'b': {'title': 'B', 'type': 'integer'}},\n",
              " 'required': ['a', 'b'],\n",
              " 'title': 'add',\n",
              " 'type': 'object'}"
            ]
          },
          "metadata": {},
          "execution_count": 8
        }
      ]
    },
    {
      "cell_type": "code",
      "source": [
        "# Inspeccionamos los atributos\n",
        "print(\"Nombre: \",add.name)\n",
        "print(\"Descripcion: \",add.description)\n",
        "print(\"Argumentos: \",add.args)\n",
        "print(\"Retorno: \",add.return_direct)"
      ],
      "metadata": {
        "colab": {
          "base_uri": "https://localhost:8080/"
        },
        "id": "GKx97YC8jdBP",
        "outputId": "16c094c7-27b5-4990-c074-2e823e44bc73"
      },
      "execution_count": 9,
      "outputs": [
        {
          "output_type": "stream",
          "name": "stdout",
          "text": [
            "Nombre:  add\n",
            "Descripcion:  Adicionar dos numeros\n",
            "Argumentos:  {'a': {'title': 'A', 'type': 'integer'}, 'b': {'title': 'B', 'type': 'integer'}}\n",
            "Retorno:  False\n"
          ]
        }
      ]
    },
    {
      "cell_type": "markdown",
      "source": [
        "### Creacion con @tool + anotaciones\n",
        "\n",
        "\n"
      ],
      "metadata": {
        "id": "fWKTtOY6mU6X"
      }
    },
    {
      "cell_type": "code",
      "source": [
        "@tool\n",
        "def multiply(\n",
        "    a: Annotated[int, \"Primero operador de multiplicacion\"],\n",
        "    b: Annotated[int, \"Segundo operador de multiplicacion\"],) -> int:\n",
        "    \"\"\"Multiplicar dos numeros\"\"\"\n",
        "    return a * b"
      ],
      "metadata": {
        "id": "Dq-zpEP8e8QN"
      },
      "execution_count": 10,
      "outputs": []
    },
    {
      "cell_type": "code",
      "source": [
        "multiply.args_schema.model_json_schema()"
      ],
      "metadata": {
        "colab": {
          "base_uri": "https://localhost:8080/"
        },
        "id": "XFL-WB00iAZN",
        "outputId": "99a82d83-29eb-4fc3-d8a9-048f51b7e2df"
      },
      "execution_count": 12,
      "outputs": [
        {
          "output_type": "execute_result",
          "data": {
            "text/plain": [
              "{'description': 'Multiplicar dos numeros',\n",
              " 'properties': {'a': {'description': 'Primero operador de multiplicacion',\n",
              "   'title': 'A',\n",
              "   'type': 'integer'},\n",
              "  'b': {'description': 'Segundo operador de multiplicacion',\n",
              "   'title': 'B',\n",
              "   'type': 'integer'}},\n",
              " 'required': ['a', 'b'],\n",
              " 'title': 'multiply',\n",
              " 'type': 'object'}"
            ]
          },
          "metadata": {},
          "execution_count": 12
        }
      ]
    },
    {
      "cell_type": "code",
      "source": [
        "# Inspeccionamos los atributos\n",
        "print(\"Nombre: \",multiply.name)\n",
        "print(\"Descripcion: \",multiply.description)\n",
        "print(\"Argumentos: \",multiply.args)\n",
        "print(\"Retorno: \",multiply.return_direct)"
      ],
      "metadata": {
        "colab": {
          "base_uri": "https://localhost:8080/"
        },
        "id": "YIM5FDwjjwkN",
        "outputId": "dfa37228-224c-4874-cf17-7dbdfb333363"
      },
      "execution_count": 13,
      "outputs": [
        {
          "output_type": "stream",
          "name": "stdout",
          "text": [
            "Nombre:  multiply\n",
            "Descripcion:  Multiplicar dos numeros\n",
            "Argumentos:  {'a': {'description': 'Primero operador de multiplicacion', 'title': 'A', 'type': 'integer'}, 'b': {'description': 'Segundo operador de multiplicacion', 'title': 'B', 'type': 'integer'}}\n",
            "Retorno:  False\n"
          ]
        }
      ]
    },
    {
      "cell_type": "markdown",
      "source": [
        "### Personalizar @tool el nombre y argumentos json mediante el decorador"
      ],
      "metadata": {
        "id": "HjHbv0ArmgoK"
      }
    },
    {
      "cell_type": "code",
      "source": [
        "from pydantic import BaseModel, Field\n",
        "\n",
        "class SubInput(BaseModel):\n",
        "    a: int = Field(description=\"Primer numero\")\n",
        "    b: int = Field(description=\"Segundo numero\")\n",
        "\n",
        "@tool(\"sub-tool\", args_schema=SubInput, return_direct=True)\n",
        "def sub(a: int, b: int) -> int:\n",
        "    \"\"\"resta dos numeros\"\"\"\n",
        "    return a - b\n"
      ],
      "metadata": {
        "id": "sJlaoyK7hrDT"
      },
      "execution_count": 16,
      "outputs": []
    },
    {
      "cell_type": "code",
      "source": [
        "sub.args_schema.model_json_schema()"
      ],
      "metadata": {
        "colab": {
          "base_uri": "https://localhost:8080/"
        },
        "id": "QZo6Jsq_kFit",
        "outputId": "71ea98df-b39b-4c00-e694-c67972c31173"
      },
      "execution_count": 18,
      "outputs": [
        {
          "output_type": "execute_result",
          "data": {
            "text/plain": [
              "{'properties': {'a': {'description': 'Primer numero',\n",
              "   'title': 'A',\n",
              "   'type': 'integer'},\n",
              "  'b': {'description': 'Segundo numero', 'title': 'B', 'type': 'integer'}},\n",
              " 'required': ['a', 'b'],\n",
              " 'title': 'SubInput',\n",
              " 'type': 'object'}"
            ]
          },
          "metadata": {},
          "execution_count": 18
        }
      ]
    },
    {
      "cell_type": "code",
      "source": [
        "# Inspeccionamos los atributos\n",
        "print(\"Nombre: \",sub.name)\n",
        "print(\"Descripcion: \",sub.description)\n",
        "print(\"Argumentos: \",sub.args)\n",
        "print(\"Retorno: \",sub.return_direct)"
      ],
      "metadata": {
        "colab": {
          "base_uri": "https://localhost:8080/"
        },
        "id": "YWbqKUPDjX6l",
        "outputId": "92d6b055-1f8f-43fc-e7ef-a4762ee79590"
      },
      "execution_count": 19,
      "outputs": [
        {
          "output_type": "stream",
          "name": "stdout",
          "text": [
            "Nombre:  sub-tool\n",
            "Descripcion:  resta dos numeros\n",
            "Argumentos:  {'a': {'description': 'Primer numero', 'title': 'A', 'type': 'integer'}, 'b': {'description': 'Segundo numero', 'title': 'B', 'type': 'integer'}}\n",
            "Retorno:  True\n"
          ]
        }
      ]
    },
    {
      "cell_type": "markdown",
      "source": [
        "### 2 Herramienta basada en runnables"
      ],
      "metadata": {
        "id": "OoVlG_bUrg3K"
      }
    },
    {
      "cell_type": "code",
      "source": [
        "from langchain_core.output_parsers import StrOutputParser\n",
        "from langchain_core.prompts import ChatPromptTemplate\n",
        "\n",
        "# Elige el modelo LLM\n",
        "llm = ChatOpenAI()\n",
        "\n",
        "class BinarizerInput(BaseModel):\n",
        "    input_number: int = Field(description=\"Número que se va a convertir a binario\")\n",
        "\n",
        "prompt = ChatPromptTemplate.from_messages(\n",
        "    [(\"system\", \"convierte el siguiente número a binario: {input_number}\")]\n",
        ")\n",
        "\n",
        "chain = prompt | llm | StrOutputParser()\n",
        "\n",
        "\n",
        "binarizador_tool = chain.as_tool(\n",
        "    name=\"Binarizador\", description=\"Convierte cualquier numero en binario\",\n",
        "    args_schema=BinarizerInput\n",
        ")\n"
      ],
      "metadata": {
        "id": "fCHZpVS7kRTi"
      },
      "execution_count": 21,
      "outputs": []
    },
    {
      "cell_type": "code",
      "source": [
        "binarizador_tool.args_schema.model_json_schema()"
      ],
      "metadata": {
        "colab": {
          "base_uri": "https://localhost:8080/"
        },
        "id": "q2ZBYfxNozbB",
        "outputId": "7b01cbdc-2d89-4542-d9b1-ca5eccf2826b"
      },
      "execution_count": 23,
      "outputs": [
        {
          "output_type": "execute_result",
          "data": {
            "text/plain": [
              "{'properties': {'input_number': {'description': 'Número que se va a convertir a binario',\n",
              "   'title': 'Input Number',\n",
              "   'type': 'integer'}},\n",
              " 'required': ['input_number'],\n",
              " 'title': 'BinarizerInput',\n",
              " 'type': 'object'}"
            ]
          },
          "metadata": {},
          "execution_count": 23
        }
      ]
    },
    {
      "cell_type": "code",
      "source": [
        "# Inspeccionamos los atributos\n",
        "print(\"Nombre: \",binarizador_tool.name)\n",
        "print(\"Descripcion: \",binarizador_tool.description)\n",
        "print(\"Argumentos: \",binarizador_tool.args)\n",
        "print(\"Retorno: \",binarizador_tool.return_direct)"
      ],
      "metadata": {
        "colab": {
          "base_uri": "https://localhost:8080/"
        },
        "id": "Vhf-OD4Dp9QD",
        "outputId": "5ab76417-0951-496a-f7f2-b3f8a352d475"
      },
      "execution_count": 24,
      "outputs": [
        {
          "output_type": "stream",
          "name": "stdout",
          "text": [
            "Nombre:  Binarizador\n",
            "Descripcion:  Convierte cualquier numero en binario\n",
            "Argumentos:  {'input_number': {'description': 'Número que se va a convertir a binario', 'title': 'Input Number', 'type': 'integer'}}\n",
            "Retorno:  False\n"
          ]
        }
      ]
    },
    {
      "cell_type": "markdown",
      "source": [
        "### 3 Herramienta basada en la subclase BaseTool"
      ],
      "metadata": {
        "id": "Z-BMMK8FwQcX"
      }
    },
    {
      "cell_type": "code",
      "source": [
        "from typing import Optional, Type\n",
        "\n",
        "from pydantic import BaseModel\n",
        "from langchain_core.callbacks import (\n",
        "    AsyncCallbackManagerForToolRun,\n",
        "    CallbackManagerForToolRun,\n",
        ")\n",
        "from langchain_core.tools import BaseTool\n",
        "\n",
        "\n",
        "class PowInput(BaseModel):\n",
        "    a: int = Field(description=\"Numero base\")\n",
        "    b: int = Field(description=\"Numero potencia\")\n",
        "\n",
        "\n",
        "class PowCustom(BaseTool):\n",
        "    name: str  = \"PotenciaPersonalizado\"\n",
        "    description: str = \"Permite calcular la potencia de un numero base y su potencia\"\n",
        "    args_schema: Type[BaseModel] = PowInput\n",
        "    # Indica que el resultado de la herramienta debe ser devuelto directamente\n",
        "    return_direct: bool = True\n",
        "\n",
        "    # Método que ejecuta la herramienta de manera sincrónica\n",
        "    def _run(\n",
        "        self, a: int, b: int, run_manager: Optional[CallbackManagerForToolRun] = None\n",
        "    ) -> str:\n",
        "        \"\"\"Usa la herramienta.\"\"\"\n",
        "        return a ** b\n",
        "    # Método que ejecuta la herramienta de manera asincrónica\n",
        "    async def _arun(\n",
        "        self,\n",
        "        a: int,\n",
        "        b: int,\n",
        "        run_manager: Optional[AsyncCallbackManagerForToolRun] = None,\n",
        "    ) -> str:\n",
        "        \"\"\"Use the tool asynchronously.\"\"\"\n",
        "        # Si el cálculo es ligero, puedes delegar la tarea a la implementación sincrónica como se muestra abajo.\n",
        "        # Si el cálculo sincrónico es costoso, deberías eliminar todo el método `_arun`.\n",
        "        # LangChain proporcionará automáticamente una mejor implementación que iniciará la tarea en un hilo separado,\n",
        "        # asegurándose de que no bloquee otro código asincrónico.\n",
        "\n",
        "        return self._run(a, b, run_manager=run_manager.get_sync())\n",
        "toolPowCustom = PowCustom()"
      ],
      "metadata": {
        "id": "EujZ6zsesR0o"
      },
      "execution_count": 27,
      "outputs": []
    },
    {
      "cell_type": "code",
      "source": [
        "toolPowCustom.args_schema.model_json_schema()"
      ],
      "metadata": {
        "colab": {
          "base_uri": "https://localhost:8080/"
        },
        "id": "sgbg7PZ2vcIp",
        "outputId": "ba44bd81-a97c-4f51-a419-2b1c277ddf77"
      },
      "execution_count": 29,
      "outputs": [
        {
          "output_type": "execute_result",
          "data": {
            "text/plain": [
              "{'properties': {'a': {'description': 'Numero base',\n",
              "   'title': 'A',\n",
              "   'type': 'integer'},\n",
              "  'b': {'description': 'Numero potencia', 'title': 'B', 'type': 'integer'}},\n",
              " 'required': ['a', 'b'],\n",
              " 'title': 'PowInput',\n",
              " 'type': 'object'}"
            ]
          },
          "metadata": {},
          "execution_count": 29
        }
      ]
    },
    {
      "cell_type": "code",
      "source": [
        "# Inspeccionamos los atributos\n",
        "print(\"Nombre: \",toolPowCustom.name)\n",
        "print(\"Descripcion: \",toolPowCustom.description)\n",
        "print(\"Argumentos: \",toolPowCustom.args)\n",
        "print(\"Retorno: \",toolPowCustom.return_direct)"
      ],
      "metadata": {
        "colab": {
          "base_uri": "https://localhost:8080/"
        },
        "id": "-i7y_AjTuxLL",
        "outputId": "bf759151-8762-433e-fbc3-b351d410fb58"
      },
      "execution_count": 30,
      "outputs": [
        {
          "output_type": "stream",
          "name": "stdout",
          "text": [
            "Nombre:  PotenciaPersonalizado\n",
            "Descripcion:  Permite calcular la potencia de un numero base y su potencia\n",
            "Argumentos:  {'a': {'description': 'Numero base', 'title': 'A', 'type': 'integer'}, 'b': {'description': 'Numero potencia', 'title': 'B', 'type': 'integer'}}\n",
            "Retorno:  True\n"
          ]
        }
      ]
    },
    {
      "cell_type": "code",
      "source": [
        "# Configurar el prompt template\n",
        "prompt = ChatPromptTemplate.from_messages(\n",
        "    [\n",
        "        (\"system\", \"\"\"Eres un asistente matematico, usa tus herramientas para responder preguntas.\n",
        "        Si no tienes una herramienta explícita para responder la pregunta, responde con tu propio conocimiento.\n",
        "\n",
        "        Retorna solo la respuesta. por ejemplo:\n",
        "\n",
        "        Human: ¿Cuánto es 1+1?\n",
        "        AI: 2\n",
        "        \"\"\"),\n",
        "        MessagesPlaceholder(\"chat_history\", optional=True),\n",
        "        (\"human\", \"{input}\"),\n",
        "        MessagesPlaceholder(\"agent_scratchpad\"),\n",
        "    ]\n",
        ")"
      ],
      "metadata": {
        "id": "CDJpTICcnkTr"
      },
      "execution_count": 31,
      "outputs": []
    },
    {
      "cell_type": "code",
      "source": [
        "# Elige el modelo LLM\n",
        "llm = ChatOpenAI()\n",
        "# Configurar el conjunto de herramientas\n",
        "toolkit = [add, multiply, sub, binarizador_tool, toolPowCustom]"
      ],
      "metadata": {
        "id": "7uMlSFDKwbnn"
      },
      "execution_count": 32,
      "outputs": []
    },
    {
      "cell_type": "code",
      "source": [
        "# Construir el agente\n",
        "agent = create_openai_tools_agent(\n",
        "    llm=llm,\n",
        "    tools=toolkit,\n",
        "    prompt=prompt\n",
        ")\n",
        "\n",
        "# Crear el ejecutor del agente\n",
        "agent_executor = AgentExecutor(agent=agent, tools=toolkit, verbose=True,return_intermediate_steps=True)"
      ],
      "metadata": {
        "id": "l5is8zI7nlPo"
      },
      "execution_count": 33,
      "outputs": []
    },
    {
      "cell_type": "markdown",
      "source": [
        "### Ejemplo de uso de herramientas"
      ],
      "metadata": {
        "id": "Zlr63rXuw5rh"
      }
    },
    {
      "cell_type": "code",
      "source": [
        "# Ejecutar una consulta\n",
        "result = agent_executor.invoke({\"input\": \"¿Cuánto es el cubo de 3 más la suma de 4 y 5?\"})\n",
        "\n",
        "# Imprimir la salida\n",
        "print(result['output'])"
      ],
      "metadata": {
        "colab": {
          "base_uri": "https://localhost:8080/"
        },
        "id": "xSX3Fx_4npUy",
        "outputId": "b86d88b4-8f48-4bd5-9833-d2a8e5fbd981"
      },
      "execution_count": 41,
      "outputs": [
        {
          "output_type": "stream",
          "name": "stdout",
          "text": [
            "\n",
            "\n",
            "\u001b[1m> Entering new AgentExecutor chain...\u001b[0m\n",
            "\u001b[32;1m\u001b[1;3m\n",
            "Invoking: `PotenciaPersonalizado` with `{'a': 3, 'b': 3}`\n",
            "\n",
            "\n",
            "\u001b[0m\u001b[33;1m\u001b[1;3m27\u001b[0m\n",
            "\u001b[32;1m\u001b[1;3m\n",
            "Invoking: `add` with `{'a': 4, 'b': 5}`\n",
            "\n",
            "\n",
            "\u001b[0m\u001b[36;1m\u001b[1;3m9\u001b[0m\u001b[32;1m\u001b[1;3m\n",
            "Invoking: `add` with `{'a': 27, 'b': 9}`\n",
            "\n",
            "\n",
            "\u001b[0m\u001b[36;1m\u001b[1;3m36\u001b[0m\u001b[32;1m\u001b[1;3mEl cubo de 3 más la suma de 4 y 5 es igual a 36.\u001b[0m\n",
            "\n",
            "\u001b[1m> Finished chain.\u001b[0m\n",
            "El cubo de 3 más la suma de 4 y 5 es igual a 36.\n"
          ]
        }
      ]
    },
    {
      "cell_type": "code",
      "source": [
        "# Ejecutar una consulta\n",
        "result = agent_executor.invoke({\"input\": \"¿indica cuanto es el valor binario de 96?\"})\n",
        "\n",
        "# Imprimir la salida\n",
        "print(result['output'])"
      ],
      "metadata": {
        "colab": {
          "base_uri": "https://localhost:8080/"
        },
        "id": "xyflmnkIw91M",
        "outputId": "84c65069-a8b4-47ae-bce9-0bfd74cf214e"
      },
      "execution_count": 42,
      "outputs": [
        {
          "output_type": "stream",
          "name": "stdout",
          "text": [
            "\n",
            "\n",
            "\u001b[1m> Entering new AgentExecutor chain...\u001b[0m\n",
            "\u001b[32;1m\u001b[1;3m\n",
            "Invoking: `Binarizador` with `{'input_number': 96}`\n",
            "\n",
            "\n",
            "\u001b[0m\u001b[36;1m\u001b[1;3mEl número 96 en binario es 1100000.\u001b[0m\u001b[32;1m\u001b[1;3mEl valor binario de 96 es 1100000.\u001b[0m\n",
            "\n",
            "\u001b[1m> Finished chain.\u001b[0m\n",
            "El valor binario de 96 es 1100000.\n"
          ]
        }
      ]
    },
    {
      "cell_type": "code",
      "source": [
        "# Ejecutar una consulta\n",
        "result = agent_executor.invoke({\"input\": \"¿Cual es la potencia  de 3 elevado a 4 y la resta de 9 y 7?\"})\n",
        "\n",
        "# Imprimir la salida\n",
        "print(result['output'])"
      ],
      "metadata": {
        "colab": {
          "base_uri": "https://localhost:8080/"
        },
        "id": "W56xURxExQvc",
        "outputId": "99121a4e-7fc1-4c19-a78d-239bf833760f"
      },
      "execution_count": 43,
      "outputs": [
        {
          "output_type": "stream",
          "name": "stdout",
          "text": [
            "\n",
            "\n",
            "\u001b[1m> Entering new AgentExecutor chain...\u001b[0m\n",
            "\u001b[32;1m\u001b[1;3m\n",
            "Invoking: `PotenciaPersonalizado` with `{'a': 3, 'b': 4}`\n",
            "\n",
            "\n",
            "\u001b[0m\u001b[33;1m\u001b[1;3m81\u001b[0m\n",
            "\u001b[32;1m\u001b[1;3m\n",
            "Invoking: `sub-tool` with `{'a': 9, 'b': 7}`\n",
            "\n",
            "\n",
            "\u001b[0m\u001b[38;5;200m\u001b[1;3m2\u001b[0m\n",
            "\u001b[32;1m\u001b[1;3mLa potencia de 3 elevado a 4 es 81 y la resta de 9 y 7 es 2.\u001b[0m\n",
            "\n",
            "\u001b[1m> Finished chain.\u001b[0m\n",
            "La potencia de 3 elevado a 4 es 81 y la resta de 9 y 7 es 2.\n"
          ]
        }
      ]
    },
    {
      "cell_type": "markdown",
      "source": [
        "### Visuzalizacion de pasos intermedios"
      ],
      "metadata": {
        "id": "imxvhCCvw-p2"
      }
    },
    {
      "cell_type": "code",
      "source": [
        "# Imprimir directamente los pasos intermedios y la respuesta final\n",
        "print(\"Pasos intermedios:\")\n",
        "for step in result['intermediate_steps']:\n",
        "    action, observation = step\n",
        "    print(f\"Acción: {action.tool}, Input: {action.tool_input}, Resultado: {observation}\")\n"
      ],
      "metadata": {
        "colab": {
          "base_uri": "https://localhost:8080/"
        },
        "id": "RgGgFDUUnx-R",
        "outputId": "a9cef37a-8b70-4514-8c7e-982c540e0f44"
      },
      "execution_count": 44,
      "outputs": [
        {
          "output_type": "stream",
          "name": "stdout",
          "text": [
            "Pasos intermedios:\n",
            "Acción: PotenciaPersonalizado, Input: {'a': 3, 'b': 4}, Resultado: 81\n",
            "Acción: sub-tool, Input: {'a': 9, 'b': 7}, Resultado: 2\n"
          ]
        }
      ]
    },
    {
      "cell_type": "code",
      "source": [
        "# Este codigo se basa en la documentacion oficial version 0.2 y 0.3 langchain"
      ],
      "metadata": {
        "id": "icSvGRxYqWfQ"
      },
      "execution_count": 38,
      "outputs": []
    },
    {
      "cell_type": "code",
      "source": [],
      "metadata": {
        "id": "bH4JqSML23zH"
      },
      "execution_count": null,
      "outputs": []
    }
  ]
}