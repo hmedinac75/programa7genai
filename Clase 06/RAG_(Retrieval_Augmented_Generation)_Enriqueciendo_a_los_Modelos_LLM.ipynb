{
  "nbformat": 4,
  "nbformat_minor": 0,
  "metadata": {
    "colab": {
      "provenance": []
    },
    "kernelspec": {
      "name": "python3",
      "display_name": "Python 3"
    },
    "language_info": {
      "name": "python"
    }
  },
  "cells": [
    {
      "cell_type": "code",
      "execution_count": 1,
      "metadata": {
        "colab": {
          "base_uri": "https://localhost:8080/"
        },
        "id": "vpWZTG1lS4ck",
        "outputId": "ea22653b-bd79-4107-b16d-47dcc96a65d9"
      },
      "outputs": [
        {
          "output_type": "stream",
          "name": "stdout",
          "text": [
            "\u001b[2K     \u001b[90m━━━━━━━━━━━━━━━━━━━━━━━━━━━━━━━━━━━━━━━━\u001b[0m \u001b[32m43.5/43.5 kB\u001b[0m \u001b[31m1.3 MB/s\u001b[0m eta \u001b[36m0:00:00\u001b[0m\n",
            "\u001b[2K   \u001b[90m━━━━━━━━━━━━━━━━━━━━━━━━━━━━━━━━━━━━━━━━\u001b[0m \u001b[32m155.3/155.3 kB\u001b[0m \u001b[31m8.1 MB/s\u001b[0m eta \u001b[36m0:00:00\u001b[0m\n",
            "\u001b[2K   \u001b[90m━━━━━━━━━━━━━━━━━━━━━━━━━━━━━━━━━━━━━━━━\u001b[0m \u001b[32m62.9/62.9 kB\u001b[0m \u001b[31m3.5 MB/s\u001b[0m eta \u001b[36m0:00:00\u001b[0m\n",
            "\u001b[2K   \u001b[90m━━━━━━━━━━━━━━━━━━━━━━━━━━━━━━━━━━━━━━━━\u001b[0m \u001b[32m437.9/437.9 kB\u001b[0m \u001b[31m16.9 MB/s\u001b[0m eta \u001b[36m0:00:00\u001b[0m\n",
            "\u001b[2K   \u001b[90m━━━━━━━━━━━━━━━━━━━━━━━━━━━━━━━━━━━━━━━━\u001b[0m \u001b[32m2.5/2.5 MB\u001b[0m \u001b[31m42.8 MB/s\u001b[0m eta \u001b[36m0:00:00\u001b[0m\n",
            "\u001b[2K   \u001b[90m━━━━━━━━━━━━━━━━━━━━━━━━━━━━━━━━━━━━━━━━\u001b[0m \u001b[32m44.2/44.2 kB\u001b[0m \u001b[31m2.9 MB/s\u001b[0m eta \u001b[36m0:00:00\u001b[0m\n",
            "\u001b[2K   \u001b[90m━━━━━━━━━━━━━━━━━━━━━━━━━━━━━━━━━━━━━━━━\u001b[0m \u001b[32m48.9/48.9 kB\u001b[0m \u001b[31m3.2 MB/s\u001b[0m eta \u001b[36m0:00:00\u001b[0m\n",
            "\u001b[2K   \u001b[90m━━━━━━━━━━━━━━━━━━━━━━━━━━━━━━━━━━━━━━━━\u001b[0m \u001b[32m44.4/44.4 kB\u001b[0m \u001b[31m1.6 MB/s\u001b[0m eta \u001b[36m0:00:00\u001b[0m\n",
            "\u001b[2K   \u001b[90m━━━━━━━━━━━━━━━━━━━━━━━━━━━━━━━━━━━━━━━━\u001b[0m \u001b[32m50.9/50.9 kB\u001b[0m \u001b[31m2.2 MB/s\u001b[0m eta \u001b[36m0:00:00\u001b[0m\n",
            "\u001b[2K   \u001b[90m━━━━━━━━━━━━━━━━━━━━━━━━━━━━━━━━━━━━━━━━\u001b[0m \u001b[32m223.6/223.6 kB\u001b[0m \u001b[31m10.4 MB/s\u001b[0m eta \u001b[36m0:00:00\u001b[0m\n",
            "\u001b[?25h"
          ]
        }
      ],
      "source": [
        "%pip install -qU langgraph langchain-openai langchain-core langchain-community langchain-text-splitters"
      ]
    },
    {
      "cell_type": "code",
      "source": [
        "import os\n",
        "with open(\"/content/api_key.txt\") as archivo:\n",
        "  apikey = archivo.read()\n",
        "  os.environ[\"OPENAI_API_KEY\"] =apikey"
      ],
      "metadata": {
        "id": "ohi8Qrl8Z4Aa"
      },
      "execution_count": 2,
      "outputs": []
    },
    {
      "cell_type": "code",
      "source": [
        "from langchain_openai import ChatOpenAI, OpenAIEmbeddings"
      ],
      "metadata": {
        "id": "nAHnuwIsaXWc"
      },
      "execution_count": 3,
      "outputs": []
    },
    {
      "cell_type": "code",
      "source": [
        "embedding = OpenAIEmbeddings(model=\"text-embedding-3-large\")"
      ],
      "metadata": {
        "id": "fcVku9c1aq2L"
      },
      "execution_count": 4,
      "outputs": []
    },
    {
      "cell_type": "code",
      "source": [
        "from langchain_community.document_loaders import WebBaseLoader\n",
        "from langchain_text_splitters import RecursiveCharacterTextSplitter\n",
        "from langchain_core.vectorstores import InMemoryVectorStore\n",
        "### Carga\n",
        "\n",
        "loader =  WebBaseLoader(web_paths=(\"https://es.wikipedia.org/wiki/Cuzco\",))\n",
        "docs = loader.load()\n",
        "### fragmentacion\n",
        "text_expliter = RecursiveCharacterTextSplitter(chunk_size=1000, chunk_overlap=0)\n",
        "all_split = text_expliter.split_documents(docs)\n",
        "#### almacenamiento\n",
        "vectore_store = InMemoryVectorStore(embedding)\n",
        "_ = vectore_store.add_documents(all_split)\n"
      ],
      "metadata": {
        "id": "Iggm_YuXa0le"
      },
      "execution_count": 12,
      "outputs": []
    },
    {
      "cell_type": "code",
      "source": [
        "retriever_chain = vectore_store.as_retriever()"
      ],
      "metadata": {
        "id": "ERkUvUF6bPzo"
      },
      "execution_count": 13,
      "outputs": []
    },
    {
      "cell_type": "code",
      "source": [
        "query= \"¿Cuando llegó al poder Pachacútec?\"\n",
        "respuesta = retriever_chain.invoke(query)\n",
        "respuesta"
      ],
      "metadata": {
        "colab": {
          "base_uri": "https://localhost:8080/"
        },
        "id": "hkJrqY-Sb03g",
        "outputId": "6e325667-77fa-4988-e696-4383f802a061"
      },
      "execution_count": 14,
      "outputs": [
        {
          "output_type": "execute_result",
          "data": {
            "text/plain": [
              "[Document(id='18de49f0-f9f0-44f5-ae40-fdf9a14d211d', metadata={'source': 'https://es.wikipedia.org/wiki/Cuzco', 'title': 'Cuzco - Wikipedia, la enciclopedia libre', 'language': 'es'}, page_content='Representación de las cuatro divisiones del Imperio incaico o Tahuantinsuyu, que partían del Cuzco, la ciudad capital con forma de puma.\\nSe atribuye al gobernante Pachacútec el haber hecho del Cuzco un centro espiritual y político. Pachacútec llegó al poder en 1438, y él y su hijo Túpac Yupanqui dedicaron cinco décadas a la organización y conciliación de los diferentes grupos tribales bajo su dominio, entre ellos los lupacas y los collas. Durante el periodo de Pachacútec y Túpac Yupanqui, el dominio de Cuzco llegó hasta Quito, al norte, y hasta el río Maule, al sur, integrando a su cultura a los habitantes de 4500\\xa0km de cadenas montañosas.\\nTambién se cree que el diseño original de la ciudad es obra de Pachacútec. El plano del Cuzco antiguo tiene forma de puma delineado, con la plaza central Haucaypata en la posición que ocuparía el pecho del animal. La cabeza del felino estaría ubicada en la colina donde está la fortaleza de Sacsayhuamán.'),\n",
              " Document(id='91adeb18-7235-466d-a9a5-5fde08571380', metadata={'source': 'https://es.wikipedia.org/wiki/Cuzco', 'title': 'Cuzco - Wikipedia, la enciclopedia libre', 'language': 'es'}, page_content='Tras capturar al inca Atahualpa en Cajamarca, iniciaron su marcha hacia el Cusco. En febrero de 1533 partieron de Cajamarca rumbo al Cusco Hernando de Soto y Pedro del Barco conforme lo señalan Garcilaso y López de Gómara, aunque Pedro Pizarro y Rubén Vargas Ugarte discrepan en la entidad de los emisarios. Esta primera expedición regresó a Cajamarca entre fines de mayo y la primera mitad de junio de 1533 con enormes cargas de oro y plata tal como lo cuenta el cronista Vargas Ugarte.[27]\\u200b El 11 de agosto de 1533, Francisco Pizarro inició su viaje desde Cajamarca al Cusco acompañado de Túpac Hualpa y, aunque Garcilaso señala que se trata de otro personaje, del guerrero Calcuchimac.[28]\\u200b En este viaje, Manco Inca se unió a la comitiva de Francisco Pizarro y Diego de Almagro, con su ayuda, derrotó a las huestes de Quisquis que controlaban la ciudad logrando que el 15 de noviembre de 1533 se produjera la toma de los conquistadores de la ciudad.[29]\\u200b Manco Inca fue coronado como inca y,'),\n",
              " Document(id='0670e1e9-b3a2-4255-ac99-594d13ec9692', metadata={'source': 'https://es.wikipedia.org/wiki/Cuzco', 'title': 'Cuzco - Wikipedia, la enciclopedia libre', 'language': 'es'}, page_content='Epítetos[editar]\\nSon muy usados para referir a la ciudad, en especial en situaciones formales o en lenguaje periodístico, los epítetos de la Ciudad Imperial, el Ombligo del Mundo y la Capital Histórica (del Perú). El primero de ellos es el más usado y comprendido en el ámbito nacional.\\nLa Dirección de Turismo y Comercio Exterior del Cusco en 2008 promocionó la ciudad rescatando el epíteto de la Roma de América, de corte garcilasiano, por alusión a su gran cantidad de patrimonio monumental.[8]\\u200b Este último epíteto, sin embargo, no es muy utilizado y compite en referente con la cercana ciudad de Juli, que también lo usa.\\n\\nHistoria[editar]\\nFundación y época incaica[editar]\\nSegún la leyenda recogida por el Inca Garcilaso de la Vega, Manco Cápac y Mama Ocllo migraron desde el lago Titicaca por consejo de su padre, el dios Sol. Lanzaron una jabalina de oro; allí donde se clavó fundaron un nuevo pueblo. El lugar elegido se llamó Cuzco:'),\n",
              " Document(id='8b9ae16a-26a2-42f3-8ba6-6b246f704329', metadata={'source': 'https://es.wikipedia.org/wiki/Cuzco', 'title': 'Cuzco - Wikipedia, la enciclopedia libre', 'language': 'es'}, page_content='Por datos arqueológicos y antropológicos se ha ido estudiando el verdadero proceso de la ocupación del Cuzco. El consenso apunta a que, debido al colapso del reino de Tiahuanaco se produjo la migración de su pueblo.[24]\\u200b Este grupo de cerca de 500 hombres se habría establecido en forma paulatina en el valle del río Huatanay, proceso que culminaría con la fundación del Cuzco a orillas del río Saphy. Se desconoce la fecha aproximada, pero gracias a vestigios se acuerda que el emplazamiento donde se ubica la ciudad ya se encontraba habitada hace 3000\\xa0años.El topónimo con una s larga <Cuſco> en un mapa de 1597 de Cornelius van Wytfliet.Crónicas antiguas como las del cronista Pedro Sarmiento de Gamboa (1530-1592) afirman la existencia de grupos étnicos en el valle de Cuzco antes del surgimiento del Imperio Inca. Dicho autor menciona a los guallas, los sahuasiray y los antasayas como los pobladores más antiguos; en tanto que los alcavistas, copalimaytas y culunchimas son considerados')]"
            ]
          },
          "metadata": {},
          "execution_count": 14
        }
      ]
    },
    {
      "cell_type": "code",
      "source": [
        "tool_cuzco = retriever_chain.as_tool(\n",
        "    name =\"datos_cuzco\",\n",
        "    description=\"Herramienta para obtener infomacion de la ciudad de cuzco\"\n",
        ")"
      ],
      "metadata": {
        "id": "9ZSl-x5rdfwF"
      },
      "execution_count": 16,
      "outputs": []
    },
    {
      "cell_type": "code",
      "source": [
        "from langgraph.prebuilt import create_react_agent\n",
        "from langchain_core.messages import HumanMessage\n",
        "\n",
        "toolkit=[tool_cuzco]\n",
        "\n",
        "model = ChatOpenAI(model=\"gpt-4.1-2025-04-14\")\n",
        "agent = create_react_agent(model, toolkit)\n",
        "\n",
        "# Invocamos al agente\n",
        "config = {\"configurable\": {\"thread_id\": \"000\"}}\n",
        "response = agent.invoke({\"messages\": [HumanMessage(content=\"cuando Francisco Pizarro refundó a la usanza española la ciudad del Cuzco\")]}, config=config)\n",
        "response['messages'][-1].pretty_print()"
      ],
      "metadata": {
        "colab": {
          "base_uri": "https://localhost:8080/"
        },
        "id": "lvhpIrnveH9U",
        "outputId": "49bbcb26-efcd-4d6c-b690-656094e26fd5"
      },
      "execution_count": 19,
      "outputs": [
        {
          "output_type": "stream",
          "name": "stdout",
          "text": [
            "==================================\u001b[1m Ai Message \u001b[0m==================================\n",
            "\n",
            "Francisco Pizarro refundó a la usanza española la ciudad del Cuzco el 23 de marzo de 1534. En esa ocasión se estableció como plaza de Armas el lugar que todavía ocupa en la ciudad moderna, que también era la plaza principal durante el incanato, rodeada por los palacios de los antiguos soberanos incas. Al día siguiente, el 24 de marzo de 1534, se fundó el cabildo de la ciudad y se nombraron los primeros alcaldes y regidores.\n"
          ]
        }
      ]
    },
    {
      "cell_type": "code",
      "source": [
        "response"
      ],
      "metadata": {
        "colab": {
          "base_uri": "https://localhost:8080/"
        },
        "id": "x23ki2ZDfCs5",
        "outputId": "fdaa9e5c-1d18-4649-9b16-c52ef82490f6"
      },
      "execution_count": 20,
      "outputs": [
        {
          "output_type": "execute_result",
          "data": {
            "text/plain": [
              "{'messages': [HumanMessage(content='cuando Francisco Pizarro refundó a la usanza española la ciudad del Cuzco', additional_kwargs={}, response_metadata={}, id='9b077407-c8e3-4a7c-a024-4d02b22c94fb'),\n",
              "  AIMessage(content='', additional_kwargs={'tool_calls': [{'id': 'call_Rz0OOQhvXqtdlsPBK4WflJ5e', 'function': {'arguments': '{\"__arg1\":\"refundación española\"}', 'name': 'datos_cuzco'}, 'type': 'function'}], 'refusal': None}, response_metadata={'token_usage': {'completion_tokens': 21, 'prompt_tokens': 79, 'total_tokens': 100, 'completion_tokens_details': {'accepted_prediction_tokens': 0, 'audio_tokens': 0, 'reasoning_tokens': 0, 'rejected_prediction_tokens': 0}, 'prompt_tokens_details': {'audio_tokens': 0, 'cached_tokens': 0}}, 'model_name': 'gpt-4.1-2025-04-14', 'system_fingerprint': 'fp_beec22d258', 'id': 'chatcmpl-BZBF3tsDxj52835ddiyERx4bqJFgk', 'service_tier': 'default', 'finish_reason': 'tool_calls', 'logprobs': None}, id='run--75603884-f5b3-4084-a3d0-739669c66b72-0', tool_calls=[{'name': 'datos_cuzco', 'args': {'__arg1': 'refundación española'}, 'id': 'call_Rz0OOQhvXqtdlsPBK4WflJ5e', 'type': 'tool_call'}], usage_metadata={'input_tokens': 79, 'output_tokens': 21, 'total_tokens': 100, 'input_token_details': {'audio': 0, 'cache_read': 0}, 'output_token_details': {'audio': 0, 'reasoning': 0}}),\n",
              "  ToolMessage(content=\"[Document(id='e567a16c-e2cd-4ba1-946d-d33887cc4eb0', metadata={'source': 'https://es.wikipedia.org/wiki/Cuzco', 'title': 'Cuzco - Wikipedia, la enciclopedia libre', 'language': 'es'}, page_content='según la crónica de Rubén Vargas Ugarte, desde el 15 de diciembre de 1533 se produjo la fundición de objetos valiosos por parte de los españoles siendo que el reparto en Cusco fue más cuantioso que el de Cajamarca ascendiendo a 700\\\\xa0113\\\\xa0880 pesos.[30]\\\\u200b'), Document(id='c196b5e2-862a-4684-86ab-9e9eef342185', metadata={'source': 'https://es.wikipedia.org/wiki/Cuzco', 'title': 'Cuzco - Wikipedia, la enciclopedia libre', 'language': 'es'}, page_content='Fundación hispánica y época colonial[editar]\\\\nArtículo principal:  Historia colonial del Cuzco\\\\nCuzco en una lámina de Civitates orbis terrarum (segunda mitad del siglo\\\\xa0XVI)\\\\nLos conquistadores españoles supieron desde su llegada a lo que es hoy territorio peruano, que su meta era tomar la ciudad del Cuzco, capital del imperio.'), Document(id='a1c18c8a-5c8e-46fb-b8dd-71bde7b12bb6', metadata={'source': 'https://es.wikipedia.org/wiki/Cuzco', 'title': 'Cuzco - Wikipedia, la enciclopedia libre', 'language': 'es'}, page_content='El 23 de marzo de 1534, Francisco Pizarro refundó a la usanza española la ciudad del Cuzco, estableciendo como plaza de Armas la ubicación que aún mantiene la ciudad moderna y que era también la plaza principal durante el incanato y que se encontraba rodeada de los palacios de quienes fueron los soberanos incas.[31]\\\\u200b En el solar que da al norte se inició la construcción de la catedral. Almagro otorgó a la ciudad la denominación de «la muy noble y gran ciudad del Cuzco».[32]\\\\u200b En total fueron ochentiocho los primeros vecinos que se asentaron en la ciudad en su refundación y, para cubrir todas las necesidades de organización se fundó al día siguiente, 24 de marzo de 1534, el cabildo de la ciudad nombrando como los dos alcaldes ordinarios a Beltrán de Castro y Pedro de Candia y ocho regidores. Se estableció que los alcaldes y regidores debían renovarse anualmente.[33]\\\\u200b Finalmente, en octubre de ese año se realizó la repartición de los solares entre los conquistadores.'), Document(id='23ae2ea7-0cf7-4571-8512-1c78c97c4833', metadata={'source': 'https://es.wikipedia.org/wiki/Cuzco', 'title': 'Cuzco - Wikipedia, la enciclopedia libre', 'language': 'es'}, page_content='imprenta.[35]\\\\u200b')]\", name='datos_cuzco', id='61c6c6b8-8c6b-406f-8935-eb60f72c0385', tool_call_id='call_Rz0OOQhvXqtdlsPBK4WflJ5e'),\n",
              "  AIMessage(content='Francisco Pizarro refundó a la usanza española la ciudad del Cuzco el 23 de marzo de 1534. En esa ocasión se estableció como plaza de Armas el lugar que todavía ocupa en la ciudad moderna, que también era la plaza principal durante el incanato, rodeada por los palacios de los antiguos soberanos incas. Al día siguiente, el 24 de marzo de 1534, se fundó el cabildo de la ciudad y se nombraron los primeros alcaldes y regidores.', additional_kwargs={'refusal': None}, response_metadata={'token_usage': {'completion_tokens': 110, 'prompt_tokens': 793, 'total_tokens': 903, 'completion_tokens_details': {'accepted_prediction_tokens': 0, 'audio_tokens': 0, 'reasoning_tokens': 0, 'rejected_prediction_tokens': 0}, 'prompt_tokens_details': {'audio_tokens': 0, 'cached_tokens': 0}}, 'model_name': 'gpt-4.1-2025-04-14', 'system_fingerprint': 'fp_beec22d258', 'id': 'chatcmpl-BZBF5oDYHBXFy6gRMnUP7bUlLAE4o', 'service_tier': 'default', 'finish_reason': 'stop', 'logprobs': None}, id='run--9b51d190-32a1-4444-b6ec-51d92f241e4c-0', usage_metadata={'input_tokens': 793, 'output_tokens': 110, 'total_tokens': 903, 'input_token_details': {'audio': 0, 'cache_read': 0}, 'output_token_details': {'audio': 0, 'reasoning': 0}})]}"
            ]
          },
          "metadata": {},
          "execution_count": 20
        }
      ]
    },
    {
      "cell_type": "code",
      "source": [],
      "metadata": {
        "id": "Wxwg7fHbfKHY"
      },
      "execution_count": null,
      "outputs": []
    }
  ]
}