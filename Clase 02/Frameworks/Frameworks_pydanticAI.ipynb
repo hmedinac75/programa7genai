{
  "nbformat": 4,
  "nbformat_minor": 0,
  "metadata": {
    "colab": {
      "provenance": []
    },
    "kernelspec": {
      "name": "python3",
      "display_name": "Python 3"
    },
    "language_info": {
      "name": "python"
    }
  },
  "cells": [
    {
      "cell_type": "code",
      "source": [
        "from IPython.display import clear_output"
      ],
      "metadata": {
        "id": "TXgt3H3EtTG2"
      },
      "execution_count": 1,
      "outputs": []
    },
    {
      "cell_type": "code",
      "source": [
        "!pip install pydantic-ai\n",
        "clear_output()"
      ],
      "metadata": {
        "id": "mIV7-S9etScb"
      },
      "execution_count": 2,
      "outputs": []
    },
    {
      "cell_type": "code",
      "execution_count": 3,
      "metadata": {
        "id": "vJD3cYwhtGei"
      },
      "outputs": [],
      "source": [
        "from pydantic_ai import Agent\n",
        "#importamos librerias para soporte de la ejecucion nest_asyncio para permitir que se ejecute un bucle de eventos dentro de otro\n",
        "import nest_asyncio\n",
        "nest_asyncio.apply()"
      ]
    },
    {
      "cell_type": "code",
      "source": [
        "#importanmos la libreria API\n",
        "import os\n",
        "with open(\"/content/apikey.txt\") as archivo:\n",
        "  apikey_openai = archivo.read()\n",
        "  os.environ[\"OPENAI_API_KEY\"] = apikey_openai"
      ],
      "metadata": {
        "id": "qNa872WVuOeJ"
      },
      "execution_count": 4,
      "outputs": []
    },
    {
      "cell_type": "code",
      "source": [
        "agent = Agent(\n",
        "    'openai:gpt-4o',\n",
        "    system_prompt='Se enfocado en ser un agente de viajes',\n",
        ")"
      ],
      "metadata": {
        "id": "79hOUUGktIvN"
      },
      "execution_count": 5,
      "outputs": []
    },
    {
      "cell_type": "code",
      "source": [
        "#ejecutamos el prompt de consulta\n",
        "result = agent.run_sync('Indica los principales lugares turisticos de Lima')\n",
        "print(result.data)"
      ],
      "metadata": {
        "colab": {
          "base_uri": "https://localhost:8080/"
        },
        "id": "OHAnKvOktl1P",
        "outputId": "bbf8f7a1-e2a5-43c3-85c1-9b3d5bf427ac"
      },
      "execution_count": 6,
      "outputs": [
        {
          "output_type": "stream",
          "name": "stdout",
          "text": [
            "Lima, la capital de Perú, es una ciudad rica en historia, cultura y gastronomía. Aquí tienes una lista de algunos de los principales lugares turísticos que no te puedes perder:\n",
            "\n",
            "1. **Plaza de Armas**: Es el corazón histórico de Lima, rodeada por la Catedral de Lima, el Palacio de Gobierno y el Palacio Arzobispal. Es un lugar ideal para comenzar tu recorrido por la ciudad.\n",
            "\n",
            "2. **Catedral de Lima**: Situada en la Plaza de Armas, esta impresionante catedral colonial es una obra maestra arquitectónica que muestra la evolución del arte religioso en el país.\n",
            "\n",
            "3. **Monasterio de San Francisco**: Famoso por sus impresionantes catacumbas y su biblioteca antigua, este complejo religioso es un tesoro del periodo colonial.\n",
            "\n",
            "4. **Barranco**: Este encantador distrito bohemio es conocido por sus coloridas mansiones, arte callejero y vibrante vida nocturna. Pasea por el Puente de los Suspiros para una experiencia romántica.\n",
            "\n",
            "5. **Miraflores**: Un distrito moderno con vistas impresionantes del Océano Pacífico. El Parque del Amor y el malecón son perfectos para caminar y disfrutar de las vistas, mientras que Larcomar ofrece excelentes opciones de compras y restaurantes.\n",
            "\n",
            "6. **Huaca Pucllana**: Pirámide de adobe preinca ubicada en el distrito de Miraflores, donde se puede aprender sobre la historia precolombina de la región.\n",
            "\n",
            "7. **Museo Larco**: Ubicado en un hermoso edificio virreinal, este museo alberga una vasta colección de arte precolombino, incluyendo cerámicas, textiles y joyería.\n",
            "\n",
            "8. **Parque Kennedy**: Situado en el corazón de Miraflores, este parque es un lugar animado con artistas locales, puestos de comida y es el famoso hogar de muchos gatos.\n",
            "\n",
            "9. **Circuito Mágico del Agua**: Ubicado en el Parque de la Reserva, este espectáculo de fuentes e iluminación es una experiencia visual impresionante y divertida para todas las edades.\n",
            "\n",
            "10. **Costa Verde**: Perfecta para los amantes de la playa y el surf, esta franja costera ofrece diversas playas y restaurantes con vistas al mar.\n",
            "\n",
            "11. **Plaza San Martín**: Otra plaza histórica de Lima, rodeada de edificios coloniales y un lugar ideal para sumergirse en la historia de la ciudad.\n",
            "\n",
            "Explorar Lima es una experiencia rica y diversa, combinando lo mejor del pasado y del presente, junto con una fenomenal oferta gastronómica que refleja la diversidad cultural del país.\n"
          ]
        }
      ]
    },
    {
      "cell_type": "code",
      "source": [],
      "metadata": {
        "id": "-qo-hEjpufCU"
      },
      "execution_count": null,
      "outputs": []
    }
  ]
}